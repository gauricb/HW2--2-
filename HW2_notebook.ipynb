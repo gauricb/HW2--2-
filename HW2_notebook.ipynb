{
 "cells": [
  {
   "cell_type": "markdown",
   "id": "7ce6be02",
   "metadata": {},
   "source": [
    "# CMPSCI 389 HW2a\n",
    "##### Assigned: Feb 22 2023; Due: Mar 1 2023 @ 11:59 pm EST\n",
    "\n",
    "#### Abstract\n",
    "It’s time! We’re making a proper Multi-layer neural network – well, you are at least.\n",
    "\n",
    "Instead of just doing matrix multiplication we’re also going to include non-linearities. This can be a bit of a headache (not gonna lie to you), but if you think about the computation graph and have the patience to read my dumb comments you’ll be fine – I promise! And yes you still need to use Latex, I’m not backing down on that."
   ]
  },
  {
   "attachments": {},
   "cell_type": "markdown",
   "id": "b5a35f14",
   "metadata": {},
   "source": [
    "### 1) Primer – what’s different?\n",
    "So, now that we’re in the realm of multi-layer perceptrons (MLP), things are going to get a little more complicated. In particular we are going to have multiple layers (essentially perceptrons with multiple outputs), which will have weight **matrices**, denoted as ($W_{0}$,$W_{1}$,...,$W_{L}$ for $L$ layers) which will have dimensions of (input size, output size), where the input and output size are the corresponding input and output size of that layer – size is the number of neurons in that layer.\n",
    "\n",
    "For example we could have a two layer MLP which would then have a $W_{0}$ and $W_{1}$. The data given may have $M$ input features and $C$ output features. In this case we know the sizes of the weight matrices must have be $W_{0} = (M, A)$ and $W_{1} = (A, C)$ where A is some number that we choose. The important part of this is that the first layer must have first dimension equal to the size of the input and the final layer must have final dimension equal to the output size. Everything else is up to us – as long as the match. Hope that landed, but I bet it will by the end of the HW.\n",
    "\n",
    "![example neural network](L_Layer_Net.png)\n",
    "\n",
    "\\begin{align}\n",
    "    \\text{Figure 1: Example of a L layer neural network – **this is not including a nonlinearity**}\n",
    "\\end{align}\n",
    "\n",
    "The second major change is that we will include a nonlinearity operation, *σ*, after every layer of our MLP, **besides the final layer**. This *σ* must be a nonlinear function and will be taken on the entire output of each layer.\n",
    "\n",
    "Because of these two changes we must make use of backpropogation (finding the gradient layer by layer without repeat- ing calculation) and must also remember the output of each layer of the NN (you’ll see why when we do the computation graph – yeah I’m going to make you do one of those)\n",
    "\n",
    "In the coding part we’re going to refer to the output of a certain layer, *layer*, and its corresponding nonlinearity as *$A_{layer+1}$* . This would make the output of the first ($W_{0}$) layer be represented by $A_{1}$. If you actually read all of this use the *$A_{layer+1}$* notation in the computation graph so I know you’re a ~~tryhard~~ good student."
   ]
  },
  {
   "cell_type": "markdown",
   "id": "0739184b",
   "metadata": {},
   "source": [
    "### 2) Math! and other stuff that will help you (30 points)\n",
    "Do the math:\n",
    "\n",
    "1. For the following nonlinearity, calculate the derivative of it w.r.t (with respect to) its input (this is kind of tricky, but if you get stuck the answers in lecture (you didn’t hear it from me). Give it a try first though, pretty please):\n",
    "\n",
    "\\begin{align}\n",
    "    σ(X) = \\frac{1}{1+e^{X}}\n",
    "\\end{align}\n",
    "\n",
    "\\begin{align}\n",
    "    \\frac{∂σ}{∂X}= σ(X)(1 - σ(X))\n",
    "\\end{align}"
   ]
  },
  {
   "cell_type": "markdown",
   "id": "0d6579a8",
   "metadata": {},
   "source": []
  },
  {
   "attachments": {},
   "cell_type": "markdown",
   "id": "db7aa161",
   "metadata": {},
   "source": [
    "2. Imagining that we’re using this nonlinearity after a single layer of neural network – calculate the derivative of the output w.r.t the weights.\n",
    "\n",
    "\\begin{align}\n",
    "    \\hat{y} = X \\cdot W + b \\text{  and  } σ(\\hat{y}) = \\frac{1}{1+e^{\\hat{y}}}\n",
    "\\end{align}\n",
    "\n",
    "also, recall:\n",
    "\n",
    "\\begin{align}\n",
    "    \\frac{∂A}{∂C} = \\frac{∂A}{∂B} * \\frac{∂B}{∂C}\n",
    "\\end{align}\n",
    "\n",
    "solve: \n",
    "\\begin{align}\n",
    "    \\frac{∂σ}{∂W}=  X^T\\cdot(1 - σ(X) (σ(X)) \n",
    "\\end{align}"
   ]
  },
  {
   "cell_type": "markdown",
   "id": "9e1496ad",
   "metadata": {},
   "source": []
  },
  {
   "attachments": {},
   "cell_type": "markdown",
   "id": "e0713355",
   "metadata": {},
   "source": [
    "3. Now something I’m sure you’ll love – draw a computation graph of a 2 layer neural network (2 weight matrices – using dot product as a basic operation) with nonlinearity, σ, between the layers. I.E :\n",
    "\n",
    "\\begin{align}\n",
    "    \\hat{y} = (σ(X\\cdot W_{0}+b_{0}))\\cdot W_{1} + b_{1}\n",
    "\\end{align}"
   ]
  },
  {
   "cell_type": "markdown",
   "id": "15ad47c6",
   "metadata": {},
   "source": []
  },
  {
   "cell_type": "markdown",
   "id": "dbc1af2f",
   "metadata": {},
   "source": [
    "4. Now time to use the computation graph! Use it to solve the following:\n",
    "\n",
    "\\begin{align}\n",
    "    \\frac{∂\\hat{y}}{∂b_{0}} = σ(X\\cdot W_{0}+b_{0})(1-σ(X\\cdot W_{0}+b_{0}))\\cdot W_{1}\n",
    "\\end{align}\n",
    "\n",
    "\\begin{align}\n",
    "    \\frac{∂\\hat{y}}{∂W_{0}} = X^T\\cdot((1 - σ(X\\cdot W_{0}+b_{0})) (σ(X\\cdot W_{0}+b_{0})) \\cdot W_1\n",
    "\\end{align}"
   ]
  },
  {
   "cell_type": "markdown",
   "id": "1161a19b",
   "metadata": {},
   "source": []
  },
  {
   "attachments": {},
   "cell_type": "markdown",
   "id": "abb2ee1f",
   "metadata": {},
   "source": [
    "### 3) CODING! (60 points)\n",
    "So I’ll level with you – this is gonna be a little bit harder than the last one. But using everything you know you’ll be able to do it cause I believe in you! BTW **you need to pip install a package called tqdm** for this hw\n",
    "\n",
    "Primarily, we have a somewhat strange (at first at least) choice to use a dictionary to store everything. This will become tremendously useful though when it comes to doing backpropogation so just trust me I guess ¯\\\\_(ツ)_/¯. You can just run the first block, then beyond that you'll need to fill out each TODO."
   ]
  },
  {
   "cell_type": "code",
   "execution_count": 15,
   "id": "5da06227",
   "metadata": {},
   "outputs": [],
   "source": [
    "import numpy as np\n",
    "import matplotlib.pyplot as plt\n",
    "from typing import Tuple, List\n",
    "from tqdm import tqdm\n",
    "\n",
    "def load_data(file_path: str, label: str)->Tuple[np.ndarray, np.ndarray]:\n",
    "    '''\n",
    "    This function loads and parses text file separated by a ',' character and\n",
    "    returns a data set as two arrays, an array of features, and an array of labels.\n",
    "    Parameters\n",
    "    ----------\n",
    "    file_path : str\n",
    "                path to the file containing the data set\n",
    "    label : str\n",
    "                A label of whether to grab training or testing data\n",
    "    Returns\n",
    "    -------\n",
    "    features : ndarray\n",
    "                2D array of shape (n,c) containing features for the data set\n",
    "    labels : ndarray\n",
    "                2D array of shape (n,d) containing labels for the data set\n",
    "    '''\n",
    "    D = np.genfromtxt(file_path, delimiter=\",\")\n",
    "    if label == \"train\":\n",
    "        features = D[0:800, :-3]  # all columns but the last three\n",
    "        labels = D[0:800, -3:]  # the last 3 columns \n",
    "    else:\n",
    "        features = D[801:1000, :-3]  # all columns but the last three\n",
    "        labels = D[801:1000, -3:]  # the last 3 columns\n",
    "    \n",
    "    return features, labels"
   ]
  },
  {
   "attachments": {},
   "cell_type": "markdown",
   "id": "a5898c84",
   "metadata": {},
   "source": [
    "1. **Initialize the network:** complete the *initialize_network()* method. \n",
    "\n",
    "    For this you’ll recieve a list of layer sizes, *layer_sizes*, which will denote the layer sizes with the first being the input size and the last being the output size, this will tell us what sized weight matrices we'll need.\n",
    "\n",
    "    **Example:** layer_size = [100,1], this will denote a 1-layer network (like a Perceptron), with inputs with 100 features and 1 feature output. Here we'd want a (100 x 1) weight matrix.\n",
    "\n",
    "    **Example 2:** layer_size = [100, 20, 1], here we'd want a 2-layer network that took the same size input and generated the same size output, but first multiplies to size 20 first. here we would need to weight matrices (one of size: (100,20) and another of size (20,1))  \n",
    "\n",
    "    For the weight matrices and bias terms initialize using *np.random.randn()* to sample random numbers between [-1, 1] from a normal distribution (or bell curve or gaussian, all the same). Then use the scale value to scale all of them. These need to be stored in the given dictionary such that the first weight matrix is stored as ”W0” and first bias is ”b0”."
   ]
  },
  {
   "cell_type": "code",
   "execution_count": 16,
   "id": "18d1a516",
   "metadata": {},
   "outputs": [],
   "source": [
    "def initialize_network(layer_sizes : list, scale : float):\n",
    "    \"\"\"\n",
    "    This function will inialize weights for an arbitrary neural network defined by\n",
    "    the number of neurons in each layer, given by 'layer_sizes'\n",
    "    Your weights should be initialized to be numpy arrays composed of random numbers\n",
    "    taken from a gaussian distribution with mean=0 and std=1, then multiplied by scale\n",
    "    Parameters\n",
    "    ----------\n",
    "    layer_sizes : np.ndarray\n",
    "        An array of intergers that denote the number of neurons in each layer\n",
    "        [100, 50, 20] would denote a network with 100 inputs, a hidden layer\n",
    "        with 50 neurons and output of size 20 -- this would mean W_0 would have dimensions (100,50) for example\n",
    "    scale : float\n",
    "        The scale of our initial weights, our weights should mostly be in the range\n",
    "        [-1,1] * scale\n",
    "    \n",
    "    Returns\n",
    "    ---------\n",
    "    init_params : dict\n",
    "        A dictionary that maps labels for parameters to an array of those parameters' \n",
    "        initial values\n",
    "        You MUST have 'W0' map to the first weight matrix, 'W1' to the second, etc. \n",
    "        Hint: \"W\" + str(1) is \"W1\"\n",
    "        AND have the first biases similarly be \"b0\", \"b1\", etc\n",
    "    \"\"\"\n",
    "\n",
    "    init_params = {}\n",
    "\n",
    "    # TODO Initialize the parameter dictionary with weight matrices and biases with random values\n",
    "    # You need to use np.random.randn() to do this -- you can look up the API\n",
    "    # This will give a number sampled from a normal distribution (a bell curve) \n",
    "    num_layers = len(layer_sizes)\n",
    "    for l in range(1, num_layers): \n",
    "        init_params['W' + str(l-1)] = np.random.randn(layer_sizes[l-1], layer_sizes[l]) * scale\n",
    "        init_params['b' + str(l-1)] = np.random.randn(1, layer_sizes[l]) * scale\n",
    "\n",
    "    return init_params"
   ]
  },
  {
   "cell_type": "code",
   "execution_count": 17,
   "id": "348ff4c1",
   "metadata": {},
   "outputs": [
    {
     "name": "stdout",
     "output_type": "stream",
     "text": [
      "your output type: <class 'dict'>\n",
      "your output length: 6\n",
      "You should have a dictionary with 6 terms\n",
      "[[ 1.3169555   2.98784195  1.26114499 -1.32753306  0.53268528]\n",
      " [-1.13565866 -0.54943014 -1.3028879  -1.04294705 -0.46252938]\n",
      " [ 0.95382179  0.36197628 -0.1905767   0.84343313  1.52789071]\n",
      " [-0.56512643 -1.01416982  0.21792926 -0.56457657  0.51217639]\n",
      " [ 1.87218888  0.7494944  -1.98703988 -0.01553079  0.47159759]\n",
      " [ 1.03796558  0.58488902 -0.13586021 -0.15773853  1.35819503]\n",
      " [-2.08027778  0.09635716 -1.36317595  2.65127052  0.15838091]\n",
      " [-0.88360055 -0.30525614  2.35623818  0.68213733  0.13652485]\n",
      " [ 1.81957591  1.36541756  1.83283333 -0.63531171 -0.7851656 ]\n",
      " [ 0.12364741 -1.40850117 -0.27562356 -1.5978932  -1.29267819]\n",
      " [-1.09507543  0.24099562  0.41295529  0.18372237 -1.66770899]\n",
      " [-0.23326994 -1.86099011 -0.65743502 -0.6228648  -1.06208625]\n",
      " [-1.65224497  1.33444199  0.96023509 -0.17411175  0.04663985]\n",
      " [-1.54878381  0.72530969  0.75832484 -1.10535135  0.11547741]\n",
      " [-1.43942871 -1.47096534 -1.083037   -0.46308319 -0.28147218]\n",
      " [-1.04485864 -0.43905652  0.48907327 -1.07918161 -0.71217149]\n",
      " [ 0.32874266 -0.01358539  0.07380471 -0.01489631  0.97276892]\n",
      " [ 0.2500168   1.48346001 -1.38407846  1.35079479 -0.43853551]\n",
      " [-0.61854011  1.54917196  0.63742605  0.84237937 -0.48839593]\n",
      " [ 2.03459707  0.29361252  0.1277851  -0.18514387 -0.73791807]]\n",
      "(20, 5)\n",
      "(1, 5)\n",
      "This should be a 20 x 5 numpy matrix with very small values\n",
      "(17, 3)\n",
      "(1, 3)\n"
     ]
    }
   ],
   "source": [
    "exmaple_layers = [100, 50, 20, 5]\n",
    "example_scale = 1\n",
    "your_output = initialize_network(exmaple_layers, example_scale)\n",
    "\n",
    "print(\"your output type:\",type(your_output) )\n",
    "print(\"your output length:\", len(your_output))\n",
    "print(\"You should have a dictionary with 6 terms\")\n",
    "\n",
    "print(your_output['W2'])\n",
    "print(your_output['W2'].shape)\n",
    "print(your_output['b2'].shape)\n",
    "print(\"This should be a 20 x 5 numpy matrix with very small values\")\n",
    "\n",
    "exmaple_layers = [17, 3]\n",
    "your_output = initialize_network(exmaple_layers, example_scale)\n",
    "print(your_output['W0'].shape)\n",
    "print(your_output['b0'].shape)"
   ]
  },
  {
   "cell_type": "markdown",
   "id": "1ccf04c5",
   "metadata": {},
   "source": [
    "2. Next you need to complete the forward for the nonlinearity. Complete the *sigma_forward()* method. The forward is just the calculation of the output of the nonlinear function given some input, IN."
   ]
  },
  {
   "cell_type": "code",
   "execution_count": 18,
   "id": "e7355acf",
   "metadata": {},
   "outputs": [],
   "source": [
    "def sigmoid_forward(OUT: np.ndarray):\n",
    "    \"\"\"\n",
    "    performs the nonlinear function (sigmoid) on the given input and returns the result\n",
    "    this is 1/(1 + e^OUT)\n",
    "\n",
    "    Parameters\n",
    "    ----------\n",
    "    OUT: np.ndarray \n",
    "        The given output of a layer's matrix multiplication\n",
    "\n",
    "    Returns\n",
    "    ----------\n",
    "    A: np.ndarray \n",
    "        sigma(OUT), this is the output of your sigmoid function given input, OUT,\n",
    "        'A' and 'OUT' are used because these are the labels we will use in the next step,\n",
    "        for now you can ignore the naming.\n",
    "    \"\"\"\n",
    "\n",
    "    ######################################\n",
    "\n",
    "    # TODO Implement the sigmoid function \n",
    "    \n",
    "    ######################################\n",
    "\n",
    "    A = 1 / (1 + np.exp(-OUT))\n",
    "\n",
    "    return A"
   ]
  },
  {
   "cell_type": "code",
   "execution_count": 19,
   "id": "fe29d85e",
   "metadata": {},
   "outputs": [
    {
     "data": {
      "image/png": "[encoded data removed]",
      "text/plain": [
       "<Figure size 432x288 with 1 Axes>"
      ]
     },
     "metadata": {
      "needs_background": "light"
     },
     "output_type": "display_data"
    }
   ],
   "source": [
    "example_inputs = np.arange(-5,5,0.25)\n",
    "your_output = sigmoid_forward(example_inputs)\n",
    "\n",
    "plt.plot(example_inputs, your_output)\n",
    "plt.title(\"Your sigmoid function\")\n",
    "plt.xlabel(\"Input\")\n",
    "plt.ylabel(\"Output\")\n",
    "plt.show()"
   ]
  },
  {
   "attachments": {},
   "cell_type": "markdown",
   "id": "044e084f",
   "metadata": {},
   "source": [
    "3. After this you can put it together with your model to make your full *forward()* method, which will do a forward pass through your entire model (each layer, including the nonlinearities). It’s important to note that the final layer is not followed by a nonlinearity. You also must save every intermittent value in the cache (again for use later).\n",
    "\n",
    "It is important to not only do the forward pass, but also cache the intermittent values so that we (well, *you* ) can do backpropogation next."
   ]
  },
  {
   "cell_type": "code",
   "execution_count": 20,
   "id": "9db3237a",
   "metadata": {},
   "outputs": [],
   "source": [
    "def forward(params: dict, X: np.ndarray):\n",
    "    \"\"\"\n",
    "    This function will perform the forward pass of your backprop algorithm\n",
    "    It will calculate your networks prediction using your parameters and\n",
    "    will keep a cache of all intermittent values (which you need for backprop)\n",
    "    ** YOU MUST COMPLETE THE \"sigmoid_forward()\" method for this part **\n",
    "    Parameters\n",
    "    ----------\n",
    "    params : dict\n",
    "        A dictionary that maps the labels: 'W0', 'W1', etc to their respective\n",
    "        weight matrices -- this is the current state of your params\n",
    "    X : np.ndarray\n",
    "        A 2D numpy array representing input where each row represents a feature vector\n",
    "    \n",
    "    Returns\n",
    "    ---------\n",
    "    prediction : np.ndarray\n",
    "        A 1D numpy array holding the predictions of your network given input X\n",
    "    cache : dict\n",
    "        A dictionary that holds all of the intermittent values calculated during your\n",
    "        forward pass of your network (the 'OUT' and 'A'  of each layer), you must have the\n",
    "        keys of this dictionary be of the form \"AL\" and \"OUTL\" where \"AL\" representes the input\n",
    "        to the L-th layer of weights and \"OUT(L+1)\" is the output after multiplying by weights in Layer L . \n",
    "        \n",
    "        X = OUT0 = A0\n",
    "        XW0 + b0 = OUT1\n",
    "        sigmoid(XW0 + b0) = A1\n",
    "        sigmoid(XW0 + b0)W1 + b1 = OUT2\n",
    "        ... \n",
    "\n",
    "        i.e \"OUT0\" will be the key for exactly the input X and \"A0\" will be (as a special case) also X  \n",
    "        generally \"AL\" will be sigma(\"OUTL\")\n",
    "    \"\"\"\n",
    "    cache = {}\n",
    "\n",
    "    \n",
    "    A = np.copy(X)\n",
    "    cache[\"OUT0\"] = A\n",
    "    OUT = np.copy(X)\n",
    "    # TODO -- implement the forward pass of your network\n",
    "    # Loop through each layer of the network\n",
    "    for l in range(len(params)//2):\n",
    "        # Retrieve the weights and biases for this layer\n",
    "        Wl = params[\"W\" + str(l)]\n",
    "        bl = params[\"b\" + str(l)]\n",
    "        \n",
    "        # Compute the dot product and add the bias\n",
    "        \n",
    "        Z = np.dot(A, Wl) + bl\n",
    "        OUT = Z\n",
    "        # Compute the sigmoid activation function\n",
    "        Al = sigmoid_forward(Z)\n",
    "        \n",
    "        # Save the intermediate values in the cache dictionary\n",
    "        cache[\"A\" + str(l)] = A\n",
    "        cache[\"OUT\" + str(l+1)] = Z\n",
    "        #cache[\"A\" + str(l+1)] = Al\n",
    "        \n",
    "        # Set the output of this layer as the input to the next layer\n",
    "        A = Al\n",
    "\n",
    "    n = len(params)//2 - 2\n",
    "    # The final output is the prediction of the network\n",
    "    prediction = OUT\n",
    "    \n",
    "\n",
    "    # print(\"cache OUT of last layer: \", cache[f\"OUT{len(params) // 2 - 1}\"])\n",
    "\n",
    "    return prediction, cache"
   ]
  },
  {
   "cell_type": "code",
   "execution_count": 21,
   "id": "4de1d1bf",
   "metadata": {},
   "outputs": [
    {
     "name": "stdout",
     "output_type": "stream",
     "text": [
      "\n",
      "Single layer Network ----------------------------\n",
      "\n",
      "your prediction: [[1.81846775 1.81846775 1.81846775 1.81846775]]\n",
      "correct prediction: [[1.81846775 1.81846775 1.81846775 1.81846775]]\n",
      "\n",
      "Now larger Network ----------------------------\n",
      "\n",
      "your ouput size with larger net: (3, 2) -- Should be (3,2)\n",
      "your Cache (check this looks right):\n",
      "\n",
      "OUT0 : [[0.97572353 0.37219616 0.24532187 0.87422672 0.64896484]\n",
      " [0.85751317 0.74802149 0.08998764 0.0289001  0.09404535]\n",
      " [0.11407432 0.92606146 0.78260996 0.540031   0.68010387]]\n",
      "\n",
      "A0 : [[0.97572353 0.37219616 0.24532187 0.87422672 0.64896484]\n",
      " [0.85751317 0.74802149 0.08998764 0.0289001  0.09404535]\n",
      " [0.11407432 0.92606146 0.78260996 0.540031   0.68010387]]\n",
      "\n",
      "OUT1 : [[3.11643311 3.11643311 3.11643311 3.11643311]\n",
      " [1.81846775 1.81846775 1.81846775 1.81846775]\n",
      " [3.04288061 3.04288061 3.04288061 3.04288061]]\n",
      "\n",
      "A1 : [[0.95756553 0.95756553 0.95756553 0.95756553]\n",
      " [0.86038217 0.86038217 0.86038217 0.86038217]\n",
      " [0.95447416 0.95447416 0.95447416 0.95447416]]\n",
      "\n",
      "OUT2 : [[3.83026211 3.83026211]\n",
      " [3.44152867 3.44152867]\n",
      " [3.81789666 3.81789666]]\n"
     ]
    }
   ],
   "source": [
    "# test for forward\n",
    "x = np.random.rand(3, 5)\n",
    "\n",
    "print()\n",
    "print(\"Single layer Network ----------------------------\")\n",
    "print()\n",
    "\n",
    "params = {\"W0\": np.ones((5,4)), \"b0\": np.zeros((4))}\n",
    "\n",
    "your_pred, _ = forward(params, x)\n",
    "\n",
    "print(\"your prediction:\", your_pred[1:2])\n",
    "print(\"correct prediction:\", (x.dot(params[\"W0\"]) + params[\"b0\"])[1:2])\n",
    "\n",
    "print()\n",
    "print(\"Now larger Network ----------------------------\")\n",
    "print()\n",
    "\n",
    "params[\"W1\"] = np.ones((4,2))\n",
    "params[\"b1\"] = np.zeros((2))\n",
    "\n",
    "your_pred, your_cache = forward(params, x)\n",
    "\n",
    "print(\"your ouput size with larger net:\", your_pred.shape, \"-- Should be (3,2)\" )\n",
    "print(\"your Cache (check this looks right):\")\n",
    "for key in your_cache:\n",
    "    print()\n",
    "    print(key,\":\", your_cache[key])\n",
    "\n",
    "\n",
    "# Test with different input shape\n",
    "x = np.random.rand(2, 6)\n",
    "\n",
    "params = {\"W0\": np.ones((6,4)), \"b0\": np.zeros((4)),\n",
    "          \"W1\": np.ones((4,2)), \"b1\": np.zeros((2))}\n",
    "\n",
    "your_pred, _ = forward(params, x)\n",
    "\n",
    "assert your_pred.shape == (2,2), \"Output shape is not correct\""
   ]
  },
  {
   "attachments": {},
   "cell_type": "markdown",
   "id": "1f5f17aa",
   "metadata": {},
   "source": [
    "4. Next we are going to start doing the hard part, derivatives! In this step though all you need to do is complete *sigma_backward()* which will calculate the derivative of sigma with respect to its input (whoa! like the math we did!). This method takes its output as an input – why on earth would it do that?? Check out your math! and if it still doesn’t make sense you should check your math."
   ]
  },
  {
   "cell_type": "code",
   "execution_count": 22,
   "id": "344ced73",
   "metadata": {},
   "outputs": [],
   "source": [
    "def sigmoid_backward(A: np.ndarray):\n",
    "    \"\"\"\n",
    "    calculates the derivative of your sigma function give the output of it\n",
    "    Parameters\n",
    "    ----------\n",
    "    A: np.ndarray \n",
    "        sigmoid(OUT), this is the A value (output of the sigma) of \n",
    "        some layer. This is all we need to find dsigma / dOUT believe it or not\n",
    "    Returns\n",
    "    ----------\n",
    "    dsigmoid: np.ndarray\n",
    "        the derivative of sigmoid(OUT) dOUT -- this will use the A value\n",
    "        it will also be very simple\n",
    "    \"\"\"\n",
    "\n",
    "    ######################################\n",
    "\n",
    "    # TODO Implement the derivative of sigmoid \n",
    "\n",
    "    ######################################\n",
    "\n",
    "    dsigmoid = [0] * len(A)\n",
    "            \n",
    "    for i in range(len(A)):\n",
    "        dsigmoid[i] = (1 - A[i]) * A[i]\n",
    "\n",
    "\n",
    "    return np.array(dsigmoid)"
   ]
  },
  {
   "cell_type": "code",
   "execution_count": 23,
   "id": "4eb6bb16",
   "metadata": {},
   "outputs": [
    {
     "name": "stdout",
     "output_type": "stream",
     "text": [
      "yours: [0.     0.1875 0.25   0.1875 0.    ]\n",
      "correct: [0, 0.1875, 0.25, 0.1875, 0]\n"
     ]
    },
    {
     "data": {
      "image/png": "[encoded data removed]",
      "text/plain": [
       "<Figure size 432x288 with 1 Axes>"
      ]
     },
     "metadata": {
      "needs_background": "light"
     },
     "output_type": "display_data"
    }
   ],
   "source": [
    "example_A = [1, 0.75, 0.5, 0.25, 0]\n",
    "your_dsigmoid = sigmoid_backward(example_A)\n",
    "\n",
    "print(\"yours:\",your_dsigmoid)\n",
    "print(\"correct:\", [0, 0.1875, 0.25, 0.1875, 0])\n",
    "\n",
    "example_inputs = np.arange(0,1,0.05)\n",
    "your_output = sigmoid_backward(example_inputs)\n",
    "\n",
    "plt.plot(example_inputs, your_output)\n",
    "plt.title(\"Your sigmoid_backward function\")\n",
    "plt.xlabel(\"Input\")\n",
    "plt.ylabel(\"Output\")\n",
    "plt.show()\n"
   ]
  },
  {
   "cell_type": "markdown",
   "id": "24e3919a",
   "metadata": {},
   "source": [
    "5. Well it’s later, time to use the cache! This next step is the heart of your entire homework so it may take a little bit. You are going to complete the *backprop_and_loss()* method which will take your network, your cache, and the true output and calculate the loss as well as the gradient of loss with respect to every parameter (i.e. each ”WL” and ”bL”) and store those gradients in a cache using the same naming convention. **Note:** this uses MEAN squared error"
   ]
  },
  {
   "cell_type": "code",
   "execution_count": 24,
   "id": "cba4aa54",
   "metadata": {},
   "outputs": [],
   "source": [
    "def backprop_and_loss(params: dict, prediction: np.ndarray, cache: dict, Y : np.ndarray):\n",
    "\n",
    "    loss = np.mean(np.square(prediction-Y))\n",
    "    \n",
    "    gradient = {}\n",
    "    num_layers = len(params) // 2\n",
    "\n",
    "    L = num_layers\n",
    "    dL_y = 2 * (prediction-Y)\n",
    "    # stored dl_out and dl_da\n",
    "    derivs = {}\n",
    "    derivs['OUT' + str(L)] = dL_y\n",
    "    \n",
    "    if num_layers == 1:\n",
    "        dL_w = np.dot(cache['A'+str(L-1)].transpose(), dL_y)\n",
    "        gradient['W0'] = dL_w\n",
    "        \n",
    "        db0 = np.sum(dL_y, axis=0, keepdims=True)\n",
    "        \n",
    "        gradient['b0'] = np.sum(dL_y, axis=0, keepdims=True)\n",
    "    \n",
    "    if num_layers == 2:\n",
    "        gradient['W1'] = np.dot(cache['A'+str(L-1)].transpose(), dL_y)\n",
    "        gradient['b1'] = np.sum(dL_y, axis=0, keepdims=True)\n",
    "        dL_dA1 = np.dot(dL_y, params['W1'].transpose())\n",
    "        dL_dO1 = dL_dA1 * sigmoid_backward(cache['A'+str(1)])\n",
    "        \n",
    "        gradient['W0'] = np.dot(cache['OUT0'].transpose(), dL_dO1)\n",
    "        gradient['b0'] = np.sum(dL_dO1, axis=0, keepdims=True)\n",
    "\n",
    "    if num_layers > 2:\n",
    "        for l in reversed(range(L)):\n",
    "            dL_dw = np.dot(cache['A'+str(l)].transpose(), derivs['OUT'+str(l+1)])\n",
    "            gradient['W'+str(l)] = dL_dw\n",
    "\n",
    "            dL_db = np.sum(derivs['OUT'+str(l+1)], axis=0, keepdims=True)\n",
    "            gradient['b'+str(l)] = dL_db\n",
    "\n",
    "            if l != 0:\n",
    "                dL_dA = np.dot(derivs['OUT'+str(l+1)], params['W'+str(l)].transpose())\n",
    "                derivs['A'+str(l)] = dL_dA\n",
    "                dL_dO = dL_dA * sigmoid_backward(cache['A'+str(l)])\n",
    "                derivs['OUT'+str(l)] = dL_dO\n",
    "    \n",
    "    return gradient, loss"
   ]
  },
  {
   "cell_type": "code",
   "execution_count": 25,
   "id": "dc30d722",
   "metadata": {},
   "outputs": [
    {
     "name": "stdout",
     "output_type": "stream",
     "text": [
      "\n",
      "Single layer Network ----------------------------\n",
      "\n",
      "your grad for W0: [[1.88401983]\n",
      " [2.2897339 ]\n",
      " [5.60643954]\n",
      " [4.23857658]\n",
      " [4.97267922]]\n",
      "correct grad for W0: [[1.88401983]\n",
      " [2.2897339 ]\n",
      " [5.60643954]\n",
      " [4.23857658]\n",
      " [4.97267922]]\n",
      "your shape for W0: (5, 1)\n",
      "correct shape for W0: (5, 1)\n",
      "your shape for b0: (1, 1)\n",
      "correct shape for b0: (1, 1)\n",
      "your loss: 2.3528064950224934\n",
      "correct loss: 2.3528064950224934\n"
     ]
    }
   ],
   "source": [
    "#tests for this \n",
    "\n",
    "x = np.random.rand(3, 5)\n",
    "\n",
    "print()\n",
    "print(\"Single layer Network ----------------------------\")\n",
    "print()\n",
    "\n",
    "params = {\"W0\": np.random.rand(5,1), \"b0\": np.random.rand(1)}\n",
    "\n",
    "your_pred, your_cache = forward(params, x)\n",
    "y = np.random.rand(3,1) \n",
    "\n",
    "your_grad, your_loss = backprop_and_loss(params, your_pred, your_cache, y)\n",
    "\n",
    "print(\"your grad for W0:\", your_grad[\"W0\"])\n",
    "print(\"correct grad for W0:\", x.T.dot(2*(your_pred-y)))\n",
    "print(\"your shape for W0:\", your_grad[\"W0\"].shape)\n",
    "print(\"correct shape for W0:\", x.T.dot(2*(your_pred-y)).shape)\n",
    "print(\"your shape for b0:\", your_grad[\"b0\"].shape)\n",
    "print(\"correct shape for b0:\", (1,1))\n",
    "\n",
    "\n",
    "print(\"your loss:\", your_loss)\n",
    "print(\"correct loss:\", np.mean((your_pred-y)**2) )\n",
    "\n"
   ]
  },
  {
   "cell_type": "markdown",
   "id": "3102de34",
   "metadata": {},
   "source": [
    "6. Now it’s time to actually do the learning! You must complete the *gradient_descent()* method which will call all of your other methods to find first the prediction, then the loss and gradient. It will then use them to do gradient descent on the entire parameter dictionary (using the corresponding gradients). You’re free to do this however you see fit (as long as it works!)"
   ]
  },
  {
   "cell_type": "code",
   "execution_count": 26,
   "id": "844e0a09",
   "metadata": {},
   "outputs": [],
   "source": [
    "def gradient_descent(X : np.ndarray, Y : np.ndarray, initial_params : dict, lr : float, num_iterations : int)->Tuple[List[float], np.ndarray]:\n",
    "    \"\"\"\n",
    "    This function runs gradient descent for a fixed number of iterations on the\n",
    "    mean squared loss for a linear model parameterized by the weight vector w.\n",
    "    This function returns a list of the losses for each iteration of gradient\n",
    "    descent along with the final weight vector.\n",
    "    Parameters\n",
    "    ----------\n",
    "    X : np.ndarray\n",
    "        A 2D numpy array representing input where each row represents a feature vector\n",
    "    Y : np.ndarray\n",
    "        A 1D numpy array where each element represents a label for MSE\n",
    "    initial_params : dictionary\n",
    "        A dictionary holding the initialization of all parameters of the model as np.ndarrays\n",
    "        (e.g. key 'W0' maps to the first weight array of the neural net) \n",
    "    lr : float\n",
    "        The step-size parameter to use with gradient descent.\n",
    "    num_iterations : int\n",
    "        The number of iterations of gradient descent to run.\n",
    "    Returns\n",
    "    -------\n",
    "    losses : list\n",
    "        A list of floats representing the loss from each iteration and the\n",
    "        loss of the final weight vector\n",
    "    final_params : dictionary \n",
    "        A dictionary holding all of the parameters after training as np.ndarrays\n",
    "        (this should have the same mapping as initial_params, just with updated arrays) \n",
    "    \"\"\"\n",
    "\n",
    "    losses = []\n",
    "    \n",
    "    final_params = initial_params.copy()\n",
    "    \n",
    "    for n in tqdm(range(num_iterations)):  #tqdm will create a loading bar for your loop\n",
    "        \n",
    "        # TODO Complete this function. It's the whole sh-bang (Gradient Descent)\n",
    "\n",
    "        #forward pass\n",
    "        prediction, cache = forward(final_params, X)\n",
    "\n",
    "        gradient, loss = backprop_and_loss(final_params, prediction, cache, Y)\n",
    "        losses.append(loss)\n",
    "        \n",
    "        for key in final_params:\n",
    "            \n",
    "            final_params[key] = final_params[key] - (lr * gradient[key])\n",
    "\n",
    "            \n",
    "\n",
    "        \n",
    "\n",
    "\n",
    "\n",
    "        \n",
    "    \n",
    "    return losses, final_params"
   ]
  },
  {
   "attachments": {},
   "cell_type": "markdown",
   "id": "bfc56d9a",
   "metadata": {},
   "source": [
    "7. Now you can run it! And once you fix the 1000 bugs that you have... you can run it again and hopefully you see something *somewhat* like below – if you do, congrats! You (probably) have it working:\n",
    "\n",
    "<img style=\"display: block; margin: auto;\"\n",
    "src=\"ex_training.png\">\n",
    "<!-- ![alt text](ex_training.png#center) -->\n",
    "\n",
    "\n",
    "\\begin{align}\n",
    "    \\text{Figure 2: Example Learning curve plot with default hyperparameters.}\n",
    "\\end{align}\n",
    "\n",
    "Run both of these blocks and see if your graph looks similar"
   ]
  },
  {
   "cell_type": "code",
   "execution_count": 27,
   "id": "fc6da60e",
   "metadata": {},
   "outputs": [],
   "source": [
    "def learning_curve(losses: list, names : list):\n",
    "    \"\"\"\n",
    "    This function plots the learning curves for all gradient descent procedures in this homework.\n",
    "    The plot is saved in the file learning_curve.png. No TODO here\n",
    "    Parameters\n",
    "    ----------\n",
    "    losses : list\n",
    "        A list of arrays representing the losses for the gradient at each iteration for each run of gradient descent\n",
    "    names : list\n",
    "        A list of strings representing the names for each gradient descent method\n",
    "    Returns\n",
    "    -------\n",
    "    nothing\n",
    "    \"\"\"\n",
    "    for loss in losses:\n",
    "        plt.plot(loss)\n",
    "    plt.xscale(\"log\")\n",
    "    plt.ylim(0, 10000)\n",
    "    plt.xlabel(\"Iterations\")\n",
    "    plt.ylabel(\"Squared Loss\")\n",
    "    plt.title(\"Gradient Descent\")\n",
    "    plt.legend(names)\n",
    "    plt.savefig(\"learning_curve.png\")\n",
    "    plt.show()\n"
   ]
  },
  {
   "cell_type": "code",
   "execution_count": 28,
   "id": "8495880f",
   "metadata": {},
   "outputs": [
    {
     "name": "stderr",
     "output_type": "stream",
     "text": [
      "100%|██████████| 1000/1000 [00:00<00:00, 3523.14it/s]\n",
      "100%|██████████| 1000/1000 [00:04<00:00, 235.07it/s]\n",
      "100%|██████████| 1000/1000 [00:08<00:00, 124.20it/s]\n"
     ]
    },
    {
     "name": "stdout",
     "output_type": "stream",
     "text": [
      "final training loss values for the first three\n",
      "single layer.........   190.9\n",
      "two layer............   220.1\n",
      "many layer...........   221.2\n"
     ]
    },
    {
     "data": {
      "image/png": "[encoded data removed]",
      "text/plain": [
       "<Figure size 432x288 with 1 Axes>"
      ]
     },
     "metadata": {
      "needs_background": "light"
     },
     "output_type": "display_data"
    },
    {
     "name": "stdout",
     "output_type": "stream",
     "text": [
      "test loss of model 1: 200.61037780651856\n",
      "test loss of model 2: 237.50296725827448\n",
      "test loss of model 3: 238.8211942660077\n"
     ]
    },
    {
     "ename": "NameError",
     "evalue": "name 'train_best_model' is not defined",
     "output_type": "error",
     "traceback": [
      "\u001b[0;31m---------------------------------------------------------------------------\u001b[0m",
      "\u001b[0;31mNameError\u001b[0m                                 Traceback (most recent call last)",
      "\u001b[1;32m/Users/gauribarar/Downloads/HW2 (2)/HW2_notebook.ipynb Cell 32\u001b[0m in \u001b[0;36m<cell line: 55>\u001b[0;34m()\u001b[0m\n\u001b[1;32m     <a href='vscode-notebook-cell:/Users/gauribarar/Downloads/HW2%20%282%29/HW2_notebook.ipynb#X43sZmlsZQ%3D%3D?line=50'>51</a>\u001b[0m     names \u001b[39m=\u001b[39m [\u001b[39m\"\u001b[39m\u001b[39msingle layer\u001b[39m\u001b[39m\"\u001b[39m, \u001b[39m\"\u001b[39m\u001b[39mtwo layer\u001b[39m\u001b[39m\"\u001b[39m, \u001b[39m\"\u001b[39m\u001b[39mmany layer\u001b[39m\u001b[39m\"\u001b[39m, \u001b[39m\"\u001b[39m\u001b[39mbest model\u001b[39m\u001b[39m\"\u001b[39m]\n\u001b[1;32m     <a href='vscode-notebook-cell:/Users/gauribarar/Downloads/HW2%20%282%29/HW2_notebook.ipynb#X43sZmlsZQ%3D%3D?line=51'>52</a>\u001b[0m     learning_curve(all_losses, names)\n\u001b[0;32m---> <a href='vscode-notebook-cell:/Users/gauribarar/Downloads/HW2%20%282%29/HW2_notebook.ipynb#X43sZmlsZQ%3D%3D?line=54'>55</a>\u001b[0m main()\n",
      "\u001b[1;32m/Users/gauribarar/Downloads/HW2 (2)/HW2_notebook.ipynb Cell 32\u001b[0m in \u001b[0;36mmain\u001b[0;34m()\u001b[0m\n\u001b[1;32m     <a href='vscode-notebook-cell:/Users/gauribarar/Downloads/HW2%20%282%29/HW2_notebook.ipynb#X43sZmlsZQ%3D%3D?line=37'>38</a>\u001b[0m \u001b[39mprint\u001b[39m(\u001b[39m\"\u001b[39m\u001b[39mtest loss of model 3:\u001b[39m\u001b[39m\"\u001b[39m, test_loss2)\n\u001b[1;32m     <a href='vscode-notebook-cell:/Users/gauribarar/Downloads/HW2%20%282%29/HW2_notebook.ipynb#X43sZmlsZQ%3D%3D?line=39'>40</a>\u001b[0m \u001b[39m# TODO choose the hyper parameters for your best model (change them in train_best_model() )\u001b[39;00m\n\u001b[1;32m     <a href='vscode-notebook-cell:/Users/gauribarar/Downloads/HW2%20%282%29/HW2_notebook.ipynb#X43sZmlsZQ%3D%3D?line=40'>41</a>\u001b[0m \u001b[39m# You'll have to uncomment the below lines for once you find your best model\u001b[39;00m\n\u001b[0;32m---> <a href='vscode-notebook-cell:/Users/gauribarar/Downloads/HW2%20%282%29/HW2_notebook.ipynb#X43sZmlsZQ%3D%3D?line=42'>43</a>\u001b[0m best_losses, best_params \u001b[39m=\u001b[39m train_best_model(Train_X, Train_Y) \n\u001b[1;32m     <a href='vscode-notebook-cell:/Users/gauribarar/Downloads/HW2%20%282%29/HW2_notebook.ipynb#X43sZmlsZQ%3D%3D?line=43'>44</a>\u001b[0m best_pred, _ \u001b[39m=\u001b[39m forward(best_params, Test_X)\n\u001b[1;32m     <a href='vscode-notebook-cell:/Users/gauribarar/Downloads/HW2%20%282%29/HW2_notebook.ipynb#X43sZmlsZQ%3D%3D?line=44'>45</a>\u001b[0m best_loss \u001b[39m=\u001b[39m np\u001b[39m.\u001b[39mmean(np\u001b[39m.\u001b[39msquare(Test_Y \u001b[39m-\u001b[39m best_pred)) \n",
      "\u001b[0;31mNameError\u001b[0m: name 'train_best_model' is not defined"
     ]
    }
   ],
   "source": [
    "def main():\n",
    "    Train_X, Train_Y = load_data(\"StudentsPerformance.csv\", \"train\")  # load the data set\n",
    "\n",
    "    N = 1000 # N needs to equal 10,000 for your final plot. You can lower it to tune hyperparameters.\n",
    "\n",
    "    init_params0 = initialize_network([17,3], scale=0.1) # initializes a sigle layer network (perceptron)\n",
    "    losses0, final_params0 = gradient_descent(Train_X, Train_Y, init_params0, lr=1e-6, num_iterations=N)  \n",
    "\n",
    "    init_params1 = initialize_network([17, 5, 3], scale=0.1)  # initializes a two layer network\n",
    "    losses1, final_params1 = gradient_descent(Train_X, Train_Y, init_params1, lr=1e-6, num_iterations=N)  \n",
    "   \n",
    "    init_params2 = initialize_network([17, 7, 3, 3], scale=0.1)  # initializes a many layer network\n",
    "    losses2, final_params2 = gradient_descent(Train_X, Train_Y, init_params2, lr=1e-6, num_iterations=N)   \n",
    "\n",
    "    all_losses = [losses0, losses1, losses2]\n",
    "    #all_losses = [losses0, losses1]\n",
    "    names = [\"single layer\", \"two layer\", \"many layer\"]\n",
    "    print(\"final training loss values for the first three\")\n",
    "    for name, losses in zip(names, all_losses):\n",
    "        print(\"{0:.<21}{1:>8.1f}\".format(name, float(losses[-1])))\n",
    "\n",
    "    learning_curve(all_losses, names)\n",
    "\n",
    "    # TESTING \n",
    "\n",
    "    Test_X, Test_Y = load_data(\"StudentsPerformance.csv\", \"test\")\n",
    "\n",
    "    pred0, _ = forward(final_params0, Test_X)\n",
    "    test_loss0 = np.mean(np.square(Test_Y  - pred0)) \n",
    "    print(\"test loss of model 1:\", test_loss0)\n",
    "\n",
    "    pred1, _ = forward(final_params1, Test_X)\n",
    "    test_loss1 = np.mean(np.square(Test_Y  - pred1)) \n",
    "    print(\"test loss of model 2:\", test_loss1)\n",
    "\n",
    "    pred2, _ = forward(final_params2, Test_X)\n",
    "    test_loss2 = np.mean(np.square(Test_Y  - pred2)) \n",
    "    print(\"test loss of model 3:\", test_loss2)\n",
    "\n",
    "    # TODO choose the hyper parameters for your best model (change them in train_best_model() )\n",
    "    # You'll have to uncomment the below lines for once you find your best model\n",
    "\n",
    "    best_losses, best_params = train_best_model(Train_X, Train_Y) \n",
    "    best_pred, _ = forward(best_params, Test_X)\n",
    "    best_loss = np.mean(np.square(Test_Y - best_pred)) \n",
    "    print(\"train loss of your \\\"best\\\" model:\", float(best_losses[-1]))\n",
    "    print(\"test loss of your \\\"best\\\" model:\", best_loss)\n",
    "\n",
    "    # plot it alongside the other three\n",
    "    all_losses = [losses0, losses1, losses2, best_losses]\n",
    "    names = [\"single layer\", \"two layer\", \"many layer\", \"best model\"]\n",
    "    learning_curve(all_losses, names)\n",
    "\n",
    "\n",
    "main()"
   ]
  },
  {
   "attachments": {},
   "cell_type": "markdown",
   "id": "f0da1fdc",
   "metadata": {},
   "source": [
    "### 4a) That other bit you forgot about until now (10 points)\n",
    "1. Use *train_best_model()* (you’ll need to find some good hyperparameters) and plot its training alongside the other 3 models (you’ll need to change code in main to plot this) and show it here – Describe your best model and list the values of its hyperparameters here. You should be able to do significantly better than the default, you will be checked for the code you used to find a best model and for the quality of your final loss."
   ]
  },
  {
   "cell_type": "code",
   "execution_count": null,
   "id": "f258f26e",
   "metadata": {},
   "outputs": [],
   "source": [
    "def train_best_model(Train_X, Train_Y):\n",
    "    \"\"\"\n",
    "    This function will train the model with the hyper parameters\n",
    "    and layers that you have found to be best -- this model must get below 3\n",
    "    MSE loss on our test data (which is not the test data you are given)\n",
    "    \"\"\"\n",
    "\n",
    "    # TODO CHANGE THESE VALUES -- you must experiment to find good values\n",
    "    # Maybe you can use a loop to try many!\n",
    "\n",
    "    BEST_SCALE = 0.3              # You need\n",
    "    BEST_LAYERS = [17,1]           # to change\n",
    "    BEST_ALPHA = 1e-4             # these\n",
    "    BEST_NUM_ITERATIONS = 10000    # !\n",
    "\n",
    "    best_params = initialize_network(BEST_LAYERS, BEST_SCALE)\n",
    "    best_losses, best_final_params = gradient_descent(Train_X, Train_Y, best_params, lr=BEST_ALPHA, num_iterations=BEST_NUM_ITERATIONS)\n",
    "\n",
    "    return best_losses, best_final_params  "
   ]
  },
  {
   "cell_type": "markdown",
   "id": "ab6306a5",
   "metadata": {},
   "source": []
  },
  {
   "cell_type": "markdown",
   "id": "14038e05",
   "metadata": {},
   "source": [
    "2. Now note the printed test losses (the loss on the test set which isn’t trained on), for the 3 models and your best, show the train loss and test loss. What is the relationship between these, why do you think this is?"
   ]
  },
  {
   "cell_type": "markdown",
   "id": "460ea208",
   "metadata": {},
   "source": [
    "The train loss and the test loss for the models and the best model is shown above. \n",
    "I think learning rate played an important role in decreasing the loss. The learning rate of the best model was higher than the other 3 models. I observed that the models with less layers are performing better. \n",
    "\n",
    "Also, training loss is less than testing loss is less than testing loss for all 4 models. This might mean that the model is slightly overfit. "
   ]
  },
  {
   "cell_type": "code",
   "execution_count": null,
   "id": "4142db51",
   "metadata": {},
   "outputs": [
    {
     "name": "stdout",
     "output_type": "stream",
     "text": [
      "Password:\n",
      "sudo: a password is required\n",
      "[NbConvertApp] Converting notebook HW2_notebook.ipynb to html\n",
      "[NbConvertApp] Writing 758572 bytes to HW2_notebook.html\n"
     ]
    }
   ],
   "source": [
    "!sudo apt-get install texlive-xetex texlive-fonts-recommended texlive-generic-recommended\n",
    "!jupyter nbconvert --to html HW2_notebook.ipynb"
   ]
  }
 ],
 "metadata": {
  "kernelspec": {
   "display_name": "Python 3.9.12 ('base')",
   "language": "python",
   "name": "python3"
  },
  "language_info": {
   "codemirror_mode": {
    "name": "ipython",
    "version": 3
   },
   "file_extension": ".py",
   "mimetype": "text/x-python",
   "name": "python",
   "nbconvert_exporter": "python",
   "pygments_lexer": "ipython3",
   "version": "3.9.12"
  },
  "vscode": {
   "interpreter": {
    "hash": "4883334075f7ab6e59ce7bd4eae76642d48a00cf7d6194d6a17eece37e74060e"
   }
  }
 },
 "nbformat": 4,
 "nbformat_minor": 5
}
